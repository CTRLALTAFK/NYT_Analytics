{
 "cells": [
  {
   "cell_type": "code",
   "execution_count": 49,
   "metadata": {},
   "outputs": [],
   "source": [
    "%matplotlib notebook"
   ]
  },
  {
   "cell_type": "code",
   "execution_count": 61,
   "metadata": {},
   "outputs": [],
   "source": [
    "# Dependencies and Setup\n",
    "import matplotlib.pyplot as plt\n",
    "import pandas as pd\n",
    "import numpy as np\n",
    "import requests\n",
    "import json\n",
    "import time\n",
    "from pprint import pprint\n",
    "\n",
    "# Import API key\n",
    "from config import api_key\n",
    "\n",
    "base_url = \"https://api.nytimes.com/svc/search/v2/articlesearch.json?api-key=\""
   ]
  },
  {
   "cell_type": "code",
   "execution_count": 62,
   "metadata": {},
   "outputs": [],
   "source": [
    "#queries\n",
    "queryTerm = \"Obama\"\n",
    "startYear = \"2016\"\n",
    "StartMonthDay = \"0101\"\n",
    "endYear = \"2016\"\n",
    "EndMonthDay = '1231'\n",
    "articleCount = []"
   ]
  },
  {
   "cell_type": "code",
   "execution_count": 63,
   "metadata": {},
   "outputs": [],
   "source": [
    "#Calling APIs\n",
    "\n",
    "query_url = base_url + api_key + \"&q=\" + queryTerm + \"&begin_date=\" + startYear + StartMonthDay + \"&end_date=\" + endYear + EndMonthDay\n",
    "articles = requests.get(query_url).json()\n",
    "articles = articles[\"response\"][\"docs\"]\n"
   ]
  },
  {
   "cell_type": "code",
   "execution_count": 64,
   "metadata": {},
   "outputs": [],
   "source": [
    "articles_list = []\n",
    "\n",
    "# loop through pages 0-2\n",
    "for page in range(0, 3):\n",
    "    \n",
    "    # create query with page number\n",
    "    query_url = f\"{query_url}&page={str(page)}\"\n",
    "    \n",
    "    # Add a one second interval between queries to stay within API query limits\n",
    "    time.sleep(1)\n",
    "    # loop through the response and append each article to the list\n",
    "    for x in articles:\n",
    "        articles_list.append(x)"
   ]
  },
  {
   "cell_type": "code",
   "execution_count": 65,
   "metadata": {},
   "outputs": [
    {
     "name": "stdout",
     "output_type": "stream",
     "text": [
      "From the perspective of the teams, it’s easy to understand the T-shirt-cannon phenomenon. But from the fans’ perspective, the phenomenon mystifies.\n",
      "---------------------------\n",
      "From the perspective of the teams, it’s easy to understand the T-shirt-cannon phenomenon. But from the fans’ perspective, the phenomenon mystifies.\n",
      "---------------------------\n",
      "From the perspective of the teams, it’s easy to understand the T-shirt-cannon phenomenon. But from the fans’ perspective, the phenomenon mystifies.\n",
      "---------------------------\n",
      "From the perspective of the teams, it’s easy to understand the T-shirt-cannon phenomenon. But from the fans’ perspective, the phenomenon mystifies.\n",
      "---------------------------\n",
      "From the perspective of the teams, it’s easy to understand the T-shirt-cannon phenomenon. But from the fans’ perspective, the phenomenon mystifies.\n",
      "---------------------------\n",
      "From the perspective of the teams, it’s easy to understand the T-shirt-cannon phenomenon. But from the fans’ perspective, the phenomenon mystifies.\n",
      "---------------------------\n",
      "From the perspective of the teams, it’s easy to understand the T-shirt-cannon phenomenon. But from the fans’ perspective, the phenomenon mystifies.\n",
      "---------------------------\n",
      "From the perspective of the teams, it’s easy to understand the T-shirt-cannon phenomenon. But from the fans’ perspective, the phenomenon mystifies.\n",
      "---------------------------\n",
      "From the perspective of the teams, it’s easy to understand the T-shirt-cannon phenomenon. But from the fans’ perspective, the phenomenon mystifies.\n",
      "---------------------------\n",
      "From the perspective of the teams, it’s easy to understand the T-shirt-cannon phenomenon. But from the fans’ perspective, the phenomenon mystifies.\n",
      "---------------------------\n"
     ]
    }
   ],
   "source": [
    "for x in articles:\n",
    "    print(article[\"snippet\"])\n",
    "    print('---------------------------')"
   ]
  },
  {
   "cell_type": "code",
   "execution_count": null,
   "metadata": {},
   "outputs": [],
   "source": []
  }
 ],
 "metadata": {
  "kernelspec": {
   "display_name": "Python [conda env:pythondata]",
   "language": "python",
   "name": "conda-env-pythondata-py"
  },
  "language_info": {
   "codemirror_mode": {
    "name": "ipython",
    "version": 3
   },
   "file_extension": ".py",
   "mimetype": "text/x-python",
   "name": "python",
   "nbconvert_exporter": "python",
   "pygments_lexer": "ipython3",
   "version": "3.6.9"
  }
 },
 "nbformat": 4,
 "nbformat_minor": 2
}
