{
 "cells": [
  {
   "cell_type": "code",
   "execution_count": 1,
   "metadata": {},
   "outputs": [],
   "source": [
    "%matplotlib notebook"
   ]
  },
  {
   "cell_type": "code",
   "execution_count": 6,
   "metadata": {},
   "outputs": [],
   "source": [
    "# Dependencies and Setup\n",
    "import matplotlib.pyplot as plt\n",
    "import pandas as pd\n",
    "import numpy as np\n",
    "import requests\n",
    "import json\n",
    "from pprint import pprint\n",
    "\n",
    "# Import API key\n",
    "from config import api_key\n",
    "\n",
    "base_url = \"https://api.nytimes.com/svc/search/v2/articlesearch.json?api-key=\""
   ]
  },
  {
   "cell_type": "code",
   "execution_count": 7,
   "metadata": {},
   "outputs": [],
   "source": [
    "#queries\n",
    "queryTerm = \"Chocolate\"\n",
    "startYear = \"2016\"\n",
    "StartMonthDay = \"0101\"\n",
    "endYear = \"2016\"\n",
    "EndMonthDay = '0102'\n",
    "articleCount = []"
   ]
  },
  {
   "cell_type": "code",
   "execution_count": 11,
   "metadata": {},
   "outputs": [
    {
     "name": "stdout",
     "output_type": "stream",
     "text": [
      "'Gina DePalma, Acclaimed Pastry Chef at Babbo, Dies at 49'\n"
     ]
    }
   ],
   "source": [
    "#Calling APIs\n",
    "query_url = base_url + api_key + \"&q=\" + queryTerm + \"&begin_date=\" + startYear + StartMonthDay + \"&end_date=\" + endYear + EndMonthDay\n",
    "articles = requests.get(query_url).json()\n",
    "\n",
    "pprint(articles['response']['docs'][0]['headline']['main'])"
   ]
  },
  {
   "cell_type": "code",
   "execution_count": null,
   "metadata": {},
   "outputs": [],
   "source": []
  }
 ],
 "metadata": {
  "kernelspec": {
   "display_name": "Python [conda env:pythondata]",
   "language": "python",
   "name": "conda-env-pythondata-py"
  },
  "language_info": {
   "codemirror_mode": {
    "name": "ipython",
    "version": 3
   },
   "file_extension": ".py",
   "mimetype": "text/x-python",
   "name": "python",
   "nbconvert_exporter": "python",
   "pygments_lexer": "ipython3",
   "version": "3.6.9"
  }
 },
 "nbformat": 4,
 "nbformat_minor": 2
}
