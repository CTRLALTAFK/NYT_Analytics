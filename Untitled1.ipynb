{
 "cells": [
  {
   "cell_type": "code",
   "execution_count": 3,
   "metadata": {},
   "outputs": [
    {
     "name": "stdout",
     "output_type": "stream",
     "text": [
      "gdFJJCbbsG0T26p2iWgx6qYJ3a2cN2xR\n"
     ]
    }
   ],
   "source": [
    "import csv\n",
    "import matplotlib.pyplot as plt\n",
    "import requests\n",
    "from pprint import pprint\n",
    "import pandas as pd\n",
    "import json\n",
    "from config import api_key\n",
    "#url = \"https://api.nytimes.com/svc/search/v2/articlesearch.json?q=&api-key=\"\n",
    "#api_key = \"../API_Keys\"\n",
    "base_url = \"https://api.nytimes.com/svc/mostpopular/v2/\"\n",
    "emailed = \"emailed/\"\n",
    "shared = \"shared/\"\n",
    "viewed = \"viewed/\"\n",
    "time_1 = \"1.json?\"\n",
    "time_7 = \"7.json?\"\n",
    "time_30 = \"30.json?\"\n",
    "print (api_key)"
   ]
  },
  {
   "cell_type": "code",
   "execution_count": null,
   "metadata": {},
   "outputs": [],
   "source": [
    "query_url = base_url + viewed + time_30 + \"api-key=\" + api_key\n",
    "\n",
    "articles = requests.get(query_url).json()\n",
    "articles = articles['results']\n",
    "\n",
    "#prepare lists\n",
    "title = []\n",
    "section = []\n",
    "#keywords = []\n",
    "pop_rank = []\n",
    "\n",
    "#fill lists with data\n",
    "for article in articles:\n",
    "    title.append(article['title'])\n",
    "    section.append(article['section'])\n",
    "    #keywords.append(article['des_facet'])\n",
    "    pop_rank.append(article['views'])\n",
    "\n",
    "#convert lists to dict & dataframe\n",
    "viewed_30 = {'Title': title, 'Section': section, 'Popularity Rank': pop_rank}\n",
    "viewed_30 = pd.DataFrame(viewed_30)\n",
    "viewed_30\n",
    "\n",
    "#extract sections and count\n",
    "section_pop30 = viewed_30['Section'].value_counts()\n",
    "#section_pop30.plot(kind = \"bar\")"
   ]
  }
 ],
 "metadata": {
  "kernelspec": {
   "display_name": "Python 3",
   "language": "python",
   "name": "python3"
  },
  "language_info": {
   "codemirror_mode": {
    "name": "ipython",
    "version": 3
   },
   "file_extension": ".py",
   "mimetype": "text/x-python",
   "name": "python",
   "nbconvert_exporter": "python",
   "pygments_lexer": "ipython3",
   "version": "3.7.3"
  }
 },
 "nbformat": 4,
 "nbformat_minor": 2
}
