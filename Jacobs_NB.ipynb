{
 "cells": [
  {
   "cell_type": "code",
   "execution_count": 1,
   "metadata": {},
   "outputs": [],
   "source": [
    "# Dependencies and Setup\n",
    "import matplotlib.pyplot as plt\n",
    "import pandas as pd\n",
    "import numpy as np\n",
    "import requests\n",
    "from pprint import pprint\n",
    "\n",
    "# Import API key\n",
    "from config import api_key\n",
    "\n",
    "base_url = \"https://api.nytimes.com/svc/mostpopular/v2/\"\n",
    "viewed = \"viewed/\"\n",
    "shared = \"shared/\"\n",
    "emailed = \"emailed/\"\n",
    "time_1 = \"1.json?\"\n",
    "time_7 = \"7.json?\"\n",
    "time_30 = \"30.json?\""
   ]
  },
  {
   "cell_type": "code",
   "execution_count": 2,
   "metadata": {},
   "outputs": [],
   "source": [
    "# Most Viewed 30 days\n",
    "\n",
    "query_url = base_url + viewed + time_30 + \"api-key=\" + api_key\n",
    "\n",
    "articles = requests.get(query_url).json()\n",
    "articles = articles['results']\n",
    "\n",
    "#prepare lists\n",
    "title = []\n",
    "section = []\n",
    "#keywords = []\n",
    "pop_rank = []\n",
    "\n",
    "#fill lists with data\n",
    "for article in articles:\n",
    "    title.append(article['title'])\n",
    "    section.append(article['section'])\n",
    "    #keywords.append(article['des_facet'])\n",
    "    pop_rank.append(article['views'])\n",
    "\n",
    "#convert lists to dict & dataframe\n",
    "viewed_30 = {'Title': title, 'Section': section, 'Popularity Rank': pop_rank}\n",
    "viewed_30 = pd.DataFrame(viewed_30)\n",
    "viewed_30\n",
    "\n",
    "#extract sections and count\n",
    "section_pop30 = viewed_30['Section'].value_counts()\n",
    "#section_pop30.plot(kind = \"bar\")"
   ]
  },
  {
   "cell_type": "code",
   "execution_count": 3,
   "metadata": {},
   "outputs": [],
   "source": [
    "# Most Viewed 7 days\n",
    "query_url = base_url + viewed + time_7 + \"api-key=\" + api_key\n",
    "\n",
    "articles = response = requests.get(query_url).json()\n",
    "articles = articles['results']\n",
    "\n",
    "#prepare lists\n",
    "title = []\n",
    "section = []\n",
    "#keywords = []\n",
    "pop_rank = []\n",
    "\n",
    "#fill lists with data\n",
    "for article in articles:\n",
    "    title.append(article['title'])\n",
    "    section.append(article['section'])\n",
    "    #keywords.append(article['des_facet'])\n",
    "    pop_rank.append(article['views'])\n",
    "\n",
    "#convert lists to dict & dataframe\n",
    "viewed_7 = {'Title': title, 'Section': section, 'Popularity Rank': pop_rank}\n",
    "viewed_7 = pd.DataFrame(viewed_7)\n",
    "viewed_7\n",
    "\n",
    "#extract sections and count\n",
    "section_pop7 = viewed_7['Section'].value_counts()\n",
    "#section_pop7.plot(kind = \"bar\")"
   ]
  },
  {
   "cell_type": "code",
   "execution_count": 4,
   "metadata": {},
   "outputs": [],
   "source": [
    "# Most Viewed 1 days\n",
    "query_url = base_url + viewed + time_1 + \"api-key=\" + api_key\n",
    "\n",
    "articles = response = requests.get(query_url).json()\n",
    "articles = articles['results']\n",
    "\n",
    "#prepare lists\n",
    "title = []\n",
    "section = []\n",
    "#keywords = []\n",
    "pop_rank = []\n",
    "\n",
    "#fill lists with data\n",
    "for article in articles:\n",
    "    title.append(article['title'])\n",
    "    section.append(article['section'])\n",
    "    #keywords.append(article['des_facet'])\n",
    "    pop_rank.append(article['views'])\n",
    "\n",
    "#convert lists to dict & dataframe\n",
    "viewed_1 = {'Title': title, 'Section': section, 'Popularity Rank': pop_rank}\n",
    "viewed_1 = pd.DataFrame(viewed_1)\n",
    "viewed_1\n",
    "\n",
    "#extract sections and count\n",
    "section_pop1 = viewed_1['Section'].value_counts()\n",
    "#section_pop1.plot(kind = \"bar\")"
   ]
  },
  {
   "cell_type": "code",
   "execution_count": 5,
   "metadata": {
    "scrolled": true
   },
   "outputs": [
    {
     "data": {
      "image/png": "[encoded data removed]",
      "text/plain": [
       "<Figure size 432x288 with 1 Axes>"
      ]
     },
     "metadata": {
      "needs_background": "light"
     },
     "output_type": "display_data"
    }
   ],
   "source": [
    "# Most Viewed - Comparing all time frames\n",
    "view_merge = pd.concat([section_pop30, section_pop7, section_pop1], axis=1,sort=True, join='outer', \n",
    "                       keys=['Last 30 Days', 'Last 7 Days', 'Last Day'])\n",
    "\n",
    "# plot comparison\n",
    "view_merge.plot(kind=\"bar\", title=\"Comparing Most Viewed Sections over Time\")\n",
    "\n",
    "# Set labels\n",
    "plt.ylabel(\"# of Articles\")\n",
    "plt.xlabel(\"Sections\")\n",
    "\n",
    "plt.tight_layout()"
   ]
  },
  {
   "cell_type": "code",
   "execution_count": null,
   "metadata": {},
   "outputs": [],
   "source": []
  }
 ],
 "metadata": {
  "kernelspec": {
   "display_name": "Python [conda env:PythonData] *",
   "language": "python",
   "name": "conda-env-PythonData-py"
  },
  "language_info": {
   "codemirror_mode": {
    "name": "ipython",
    "version": 3
   },
   "file_extension": ".py",
   "mimetype": "text/x-python",
   "name": "python",
   "nbconvert_exporter": "python",
   "pygments_lexer": "ipython3",
   "version": "3.6.9"
  }
 },
 "nbformat": 4,
 "nbformat_minor": 2
}
